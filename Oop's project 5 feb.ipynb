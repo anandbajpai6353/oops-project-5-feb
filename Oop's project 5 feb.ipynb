{
 "cells": [
  {
   "cell_type": "code",
   "execution_count": 10,
   "id": "1663bd0a-a0f5-48c0-b205-cdd3af8cd1e5",
   "metadata": {},
   "outputs": [],
   "source": [
    "#Q1. Explain Class and Object with respect to Object-Oriented Programming. Give a suitable example."
   ]
  },
  {
   "cell_type": "markdown",
   "id": "53757c48-bb4e-4521-8f5b-04d82879596f",
   "metadata": {},
   "source": [
    "In object-oriented programming (OOP), a class and an object are fundamental concepts that are used to model real-world entities and their interactions. Here's an explanation of class and object along with a suitable example:\n",
    "\n",
    "Class:\n",
    "A class is a blueprint or a template that defines the common characteristics (attributes) and behaviors (methods) that objects of that class will have. It acts as a blueprint for creating instances of objects. A class defines the structure and behavior of objects but does not hold any specific data or state itself.\n",
    "\n",
    "Example:\n",
    "Consider a class called `Car` that represents the concept of a car. The `Car` class can have attributes such as `make`, `model`, `color`, and `year`, as well as methods such as `start()`, `accelerate()`, and `brake()`. The class definition serves as a blueprint for creating car objects with specific attributes and behaviors.\n",
    "\n",
    "Object:\n",
    "An object is an instance of a class. It represents a specific entity or item that has its own unique data (state) and can perform actions (behaviors) based on the defined methods in the class. An object is created using the class as a blueprint, and it can have its own values for the attributes defined in the class.\n",
    "\n"
   ]
  },
  {
   "cell_type": "code",
   "execution_count": 4,
   "id": "9d857022-946c-477b-95b7-438de5c3a6de",
   "metadata": {},
   "outputs": [],
   "source": [
    "# Define the Car class\n",
    "class Car:\n",
    "    def __init__(self, make, model, color, year):\n",
    "        self.make = make\n",
    "        self.model = model\n",
    "        self.color = color\n",
    "        self.year = year\n",
    "    \n",
    "    def start(self):\n",
    "        print(\"Car started.\")\n",
    "    \n",
    "    def accelerate(self):\n",
    "        print(\"Car accelerated.\")\n",
    "    \n",
    "    def brake(self):\n",
    "        print(\"Car braked.\")\n",
    "\n",
    "# Create an object of the Car class\n",
    "Anand_car = Car(\"Toyota\", \"Camry\", \"Silver\", 2021)\n",
    "Ujwal_car = Car(\"Honda\", \"Civic\", \"Yellow\", 2018)\n"
   ]
  },
  {
   "cell_type": "code",
   "execution_count": 5,
   "id": "9623aaa7-ee21-4db6-a5e7-0a0b0f63e1ce",
   "metadata": {},
   "outputs": [
    {
     "data": {
      "text/plain": [
       "'Camry'"
      ]
     },
     "execution_count": 5,
     "metadata": {},
     "output_type": "execute_result"
    }
   ],
   "source": [
    "\n",
    "Anand_car.model"
   ]
  },
  {
   "cell_type": "code",
   "execution_count": 6,
   "id": "9d10ddee-37f0-47d7-acfd-578b23b7cecb",
   "metadata": {},
   "outputs": [
    {
     "data": {
      "text/plain": [
       "2018"
      ]
     },
     "execution_count": 6,
     "metadata": {},
     "output_type": "execute_result"
    }
   ],
   "source": [
    "Ujwal_car.year"
   ]
  },
  {
   "cell_type": "raw",
   "id": "66fac7f0-c0ef-4b1a-afb1-25938c9bdc99",
   "metadata": {},
   "source": []
  },
  {
   "cell_type": "code",
   "execution_count": 11,
   "id": "6a06eedf-bee7-4124-8043-b3c55c601c2c",
   "metadata": {},
   "outputs": [],
   "source": [
    "#Q2. Name the four pillars of OOPs."
   ]
  },
  {
   "cell_type": "markdown",
   "id": "f4fbf793-f714-40b0-8b0e-7c94ba37e6a9",
   "metadata": {},
   "source": [
    "The four pillars of object-oriented programming (OOP) are:\n",
    "\n",
    "#1 Encapsulation: Encapsulation is the bundling of data (attributes) and related methods (behaviors) into a single unit called an object. It involves hiding the internal details of an object and providing a public interface for interacting with the object. Encapsulation ensures data integrity, enhances security, and promotes code maintainability.\n",
    "\n",
    "#2 Inheritance: Inheritance allows a class to inherit attributes and methods from another class, known as the base or parent class. It establishes a hierarchical relationship between classes, where the derived or child classes inherit and extend the properties and behaviors of the base class. Inheritance promotes code reuse, modularity, and extensibility.\n",
    "\n",
    "#3 Polymorphism: Polymorphism refers to the ability of objects of different classes to respond to the same method or message in different ways. It allows objects to take on multiple forms or have multiple behaviors based on their context or the context in which they are used. Polymorphism enables code flexibility, code reusability, and enhances the readability and maintainability of code.\n",
    "\n",
    "#4 Abstraction: Abstraction involves representing essential features of an object while hiding unnecessary details. It allows the creation of abstract classes or interfaces that define common characteristics and behaviors without providing implementation details. Abstraction focuses on what an object does rather than how it does it. It simplifies complex systems, enhances modularity, and promotes code maintainability and scalability.\n",
    "\n",
    "These four pillars of OOP provide a foundation for designing and implementing modular, flexible, and maintainable software systems. They enable developers to structure code, promote code reuse, manage complexity, and model real-world entities effectively."
   ]
  },
  {
   "cell_type": "raw",
   "id": "9e0a87e2-5849-400b-ae9a-e036aa5e69b4",
   "metadata": {},
   "source": []
  },
  {
   "cell_type": "code",
   "execution_count": 12,
   "id": "66c44aaf-7e6f-4637-83f6-71f9e115a46c",
   "metadata": {},
   "outputs": [],
   "source": [
    "#Q3. Explain why the __init__() function is used. Give a suitable example."
   ]
  },
  {
   "cell_type": "markdown",
   "id": "a69d85da-29e4-469a-8b57-3ed4cd48398e",
   "metadata": {},
   "source": [
    "The \"__init__()\" function is a special method in Python classes that is used to initialize or set up the initial state of an object. It is also known as the constructor method. The \"__init__()\" function is automatically called when an object is created from a class, and it allows us to define and assign values to the object's attributes.\n",
    "\n",
    "Here's an example to illustrate the usage of the \"__init__()\" function:"
   ]
  },
  {
   "cell_type": "code",
   "execution_count": 13,
   "id": "22d0433e-9c41-4030-98ce-6ab3299bec4f",
   "metadata": {},
   "outputs": [
    {
     "name": "stdout",
     "output_type": "stream",
     "text": [
      "Anand Bajpai\n",
      "25\n",
      "Hello, my name is Anand Bajpai and I am 25 years old.\n"
     ]
    }
   ],
   "source": [
    "class Person:\n",
    "    def __init__(self, name, age):\n",
    "        self.name = name\n",
    "        self.age = age\n",
    "\n",
    "    def introduce(self):\n",
    "        print(\"Hello, my name is\", self.name, \"and I am\", self.age, \"years old.\")\n",
    "\n",
    "# Create an object of the Person class\n",
    "person1 = Person(\"Anand Bajpai\", 25)\n",
    "person2 = Person(\"Shweta Bajpai\", 22)\n",
    "# Access object attributes\n",
    "print(person1.name)  # Output: Anand Bajpai\n",
    "print(person1.age)   # Output: 25\n",
    "\n",
    "# Invoke object method\n",
    "person1.introduce()  # Output: Hello, my name is Anand Bajpai and I am 25 years old.\n"
   ]
  },
  {
   "cell_type": "raw",
   "id": "62aabe1d-2c01-4bb5-8ba3-8aa48630f44f",
   "metadata": {},
   "source": []
  },
  {
   "cell_type": "code",
   "execution_count": 14,
   "id": "a01ac095-7724-4c7d-ae98-e034e631c434",
   "metadata": {},
   "outputs": [],
   "source": [
    "#Q4. Why self is used in OOPs?"
   ]
  },
  {
   "cell_type": "markdown",
   "id": "fdc504c5-4387-4370-a8db-efea46a4bdc8",
   "metadata": {},
   "source": [
    "In object-oriented programming (OOP), the self parameter is used to refer to the instance of a class within its methods. It is a convention in Python (though it can be named differently) and is automatically passed as the first parameter to instance methods.\n",
    "\n",
    "Here are the main reasons why self is used in OOP:\n",
    "\n",
    "Accessing Instance Variables: The self parameter allows methods to access the instance variables (attributes) of an object. By using self, methods can read or modify the object's state, ensuring that the correct instance variables are accessed within the scope of the class.\n",
    "\n",
    "Method Invocation: When a method is called on an object, the self parameter helps identify and associate the method call with the specific instance of the class. It allows the method to operate on the correct object and manipulate its state as needed.\n",
    "\n",
    "Differentiating Instance and Local Variables: By using self, you can differentiate between instance variables and local variables within a class. Instance variables are accessed using self.variable_name, while local variables are referenced directly by their name.\n",
    "\n",
    "Enabling Method Chaining: The use of self allows for method chaining, where multiple methods are invoked on the same object in a sequential manner. Each method returns the object itself (self), allowing subsequent method calls to be made on the same object.\n",
    "\n",
    "Creating and Managing Multiple Instances: self is crucial for creating and managing multiple instances (objects) of a class. It helps keep track of individual objects and ensures that methods operate on the correct instance when multiple objects of the same class are present."
   ]
  },
  {
   "cell_type": "raw",
   "id": "e82956f0-808a-4d58-8db0-fc9d6d71762f",
   "metadata": {},
   "source": []
  },
  {
   "cell_type": "code",
   "execution_count": 15,
   "id": "1d0cf5e8-cff0-44f3-86db-7ff5e3ce19db",
   "metadata": {},
   "outputs": [],
   "source": [
    "#Q5. What is inheritance? Give an example for each type of inheritance."
   ]
  },
  {
   "cell_type": "markdown",
   "id": "80cffebb-8d11-4ca5-8e97-7c718dc01e09",
   "metadata": {},
   "source": [
    "Inheritance is a fundamental concept in object-oriented programming (OOP) that allows a class to inherit attributes and methods from another class. The class that inherits is called the derived class or subclass, and the class from which it inherits is called the base class or superclass. Inheritance promotes code reuse, modularity, and extensibility by allowing the derived class to inherit and extend the properties and behaviors of the base class.\n",
    "\n",
    "There are several types of inheritance in OOP. Here are four commonly used types of inheritance, along with an example for each:\n",
    "\n",
    "1.  Single Inheritance:\n",
    "Single inheritance involves a subclass inheriting from a single base class. The subclass inherits all the attributes and methods of the base class.\n",
    "\n",
    "  \n",
    "\n"
   ]
  },
  {
   "cell_type": "code",
   "execution_count": 19,
   "id": "fe86f09a-840c-4185-a55a-0ba0140af86c",
   "metadata": {},
   "outputs": [
    {
     "name": "stdout",
     "output_type": "stream",
     "text": [
      "Capital of Gujarat is Gandhinagar\n"
     ]
    }
   ],
   "source": [
    "class Country:\n",
    "    def __init__(self, name):\n",
    "        self.name = name\n",
    "\n",
    "    def capital(self):\n",
    "        print(\"Capital of\", self.name)\n",
    "\n",
    "class State(Country):\n",
    "    def capital(self):\n",
    "        print(\"Capital of\", self.name, \"is Gandhinagar\")\n",
    "\n",
    "# Create an object of the State class\n",
    "state = State(\"Gujarat\")\n",
    "state.capital()  # Output: Capital of Gujarat is Gandhinagar\n"
   ]
  },
  {
   "cell_type": "markdown",
   "id": "29de1d1f-8577-4d44-b313-123c20650511",
   "metadata": {},
   "source": [
    "2. Multiple Inheritance:\n",
    "Multiple inheritance involves a subclass inheriting from multiple base classes. The subclass inherits attributes and methods from all the base classes.\n",
    "\n",
    "Example:"
   ]
  },
  {
   "cell_type": "code",
   "execution_count": 27,
   "id": "f0bf25db-d619-4c99-be0a-a6f1908a1a88",
   "metadata": {},
   "outputs": [
    {
     "name": "stdout",
     "output_type": "stream",
     "text": [
      "Father: Sudhir\n",
      "Mother: Ranjana\n",
      "Child: Anand\n"
     ]
    }
   ],
   "source": [
    "class Father:\n",
    "    def __init__(self, father_name):\n",
    "        self.father_name = father_name\n",
    "\n",
    "    def display_father(self):\n",
    "        print(\"Father:\", self.father_name)\n",
    "\n",
    "class Mother:\n",
    "    def __init__(self, mother_name):\n",
    "        self.mother_name = mother_name\n",
    "\n",
    "    def display_mother(self):\n",
    "        print(\"Mother:\", self.mother_name)\n",
    "\n",
    "class Child(Father, Mother):\n",
    "    def __init__(self, child_name, father_name, mother_name):\n",
    "        Father.__init__(self, father_name)\n",
    "        Mother.__init__(self, mother_name)\n",
    "        self.child_name = child_name\n",
    "\n",
    "    def display_child(self):\n",
    "        print(\"Child:\", self.child_name)\n",
    "\n",
    "# Create an object of the Child class\n",
    "child = Child(\"Anand\", \"Sudhir\", \"Ranjana\")\n",
    "child.display_father()  # Output: Father: Sudhir\n",
    "child.display_mother()  # Output: Mother: Ranjana\n",
    "child.display_child()   # Output: Child: Anand\n",
    "\n"
   ]
  },
  {
   "cell_type": "markdown",
   "id": "e2353666-f804-422c-80d6-36af4c1191d7",
   "metadata": {},
   "source": [
    "3. Multilevel Inheritance:\n",
    "Multilevel inheritance involves a subclass inheriting from a derived class. In this type of inheritance, the subclass becomes the base class for another derived class.\n",
    "\n",
    "Example:"
   ]
  },
  {
   "cell_type": "code",
   "execution_count": 29,
   "id": "0f4e4216-590f-49f2-8a6f-3d6a4ecde11c",
   "metadata": {},
   "outputs": [
    {
     "name": "stdout",
     "output_type": "stream",
     "text": [
      "Name: Anand\n",
      "Student ID: 12345\n",
      "Major: Literature\n"
     ]
    }
   ],
   "source": [
    "class Person:\n",
    "    def __init__(self, name):\n",
    "        self.name = name\n",
    "\n",
    "    def display_details(self):\n",
    "        print(\"Name:\", self.name)\n",
    "\n",
    "class Student(Person):\n",
    "    def __init__(self, name, student_id):\n",
    "        super().__init__(name)\n",
    "        self.student_id = student_id\n",
    "\n",
    "    def display_student(self):\n",
    "        print(\"Student ID:\", self.student_id)\n",
    "\n",
    "class CollegeStudent(Student):\n",
    "    def __init__(self, name, student_id, major):\n",
    "        super().__init__(name, student_id)\n",
    "        self.major = major\n",
    "\n",
    "    def display_college_student(self):\n",
    "        print(\"Major:\", self.major)\n",
    "\n",
    "# Create an object of the CollegeStudent class\n",
    "college_student = CollegeStudent(\"Anand\", \"12345\", \"Literature\")\n",
    "college_student.display_details()            # Output: Name: Anand\n",
    "college_student.display_student()            # Output: Student ID: 12345\n",
    "college_student.display_college_student()    # Output: Major: literature\n"
   ]
  },
  {
   "cell_type": "markdown",
   "id": "b2e1c016-eadd-416c-987a-b5ebe54a9fb2",
   "metadata": {},
   "source": [
    "4. Hierarchical Inheritance:\n",
    "Hierarchical inheritance involves multiple subclasses inheriting from a single base class. Each subclass inherits the attributes and methods of the base class.\n",
    "\n",
    "Example:"
   ]
  },
  {
   "cell_type": "code",
   "execution_count": 30,
   "id": "a228ed23-c92f-4bca-bef9-abe6821389ec",
   "metadata": {},
   "outputs": [
    {
     "name": "stdout",
     "output_type": "stream",
     "text": [
      "Tommy is eating\n",
      "Dog is barking\n",
      "Whiskers is eating\n",
      "Cat is meowing\n",
      "Simba is eating\n",
      "Lion is roaring\n"
     ]
    }
   ],
   "source": [
    "class Animal:\n",
    "    def __init__(self, name):\n",
    "        self.name = name\n",
    "\n",
    "    def eat(self):\n",
    "        print(self.name, \"is eating\")\n",
    "\n",
    "class Dog(Animal):\n",
    "    def bark(self):\n",
    "        print(\"Dog is barking\")\n",
    "\n",
    "class Cat(Animal):\n",
    "    def meow(self):\n",
    "        print(\"Cat is meowing\")\n",
    "\n",
    "class Lion(Animal):\n",
    "    def roar(self):\n",
    "        print(\"Lion is roaring\")\n",
    "\n",
    "# Create objects of the subclasses\n",
    "dog = Dog(\"Tommy\")\n",
    "cat = Cat(\"Whiskers\")\n",
    "lion = Lion(\"Simba\")\n",
    "\n",
    "dog.eat()    # Output: Tommy is eating\n",
    "dog.bark()   # Output: Dog is barking\n",
    "\n",
    "cat.eat()    # Output: Whiskers is eating\n",
    "cat.meow()   # Output: Cat is meowing\n",
    "\n",
    "lion.eat()   # Output: Simba is eating\n",
    "lion.roar()  # Output: Lion is roaring\n"
   ]
  },
  {
   "cell_type": "code",
   "execution_count": null,
   "id": "8a27f6fc-9c9a-436a-a4b6-f53eff18630d",
   "metadata": {},
   "outputs": [],
   "source": []
  }
 ],
 "metadata": {
  "kernelspec": {
   "display_name": "Python 3 (ipykernel)",
   "language": "python",
   "name": "python3"
  },
  "language_info": {
   "codemirror_mode": {
    "name": "ipython",
    "version": 3
   },
   "file_extension": ".py",
   "mimetype": "text/x-python",
   "name": "python",
   "nbconvert_exporter": "python",
   "pygments_lexer": "ipython3",
   "version": "3.10.8"
  }
 },
 "nbformat": 4,
 "nbformat_minor": 5
}
